{
  "nbformat": 4,
  "nbformat_minor": 0,
  "metadata": {
    "colab": {
      "provenance": [],
      "authorship_tag": "ABX9TyPRuZBLdTUCIWJuKIhRoSWv",
      "include_colab_link": true
    },
    "kernelspec": {
      "name": "python3",
      "display_name": "Python 3"
    },
    "language_info": {
      "name": "python"
    }
  },
  "cells": [
    {
      "cell_type": "markdown",
      "metadata": {
        "id": "view-in-github",
        "colab_type": "text"
      },
      "source": [
        "<a href=\"https://colab.research.google.com/github/opettikemi5/oss2025op5/blob/main/%EC%82%BC%EA%B0%81%ED%98%95_%EA%B5%AC%EB%B6%84.ipynb\" target=\"_parent\"><img src=\"https://colab.research.google.com/assets/colab-badge.svg\" alt=\"Open In Colab\"/></a>"
      ]
    },
    {
      "cell_type": "code",
      "execution_count": null,
      "metadata": {
        "id": "aJgEcUeO2BQX"
      },
      "outputs": [],
      "source": []
    },
    {
      "cell_type": "markdown",
      "source": [
        "# 삼각형 판단하기\n",
        "\n",
        "세 변의 길이를 받아서 어떤 삼각형을 판단한다  \n",
        "ㅁㅁ\n",
        "**ㅁㅁ**\n",
        "*ㅁ*\n",
        "\n"
      ],
      "metadata": {
        "id": "hlvFE_1X2B8l"
      }
    },
    {
      "cell_type": "markdown",
      "source": [
        "## 정삼각형\n",
        "\n",
        "$ a= b =c$ 정삼각형"
      ],
      "metadata": {
        "id": "Cz-O-RJ32KZJ"
      }
    },
    {
      "cell_type": "code",
      "source": [
        "def asd(a,b,c):\n",
        "  if(a==b==c) :  return True;\n",
        "\n"
      ],
      "metadata": {
        "id": "xGhYhUsJ2Ky8"
      },
      "execution_count": null,
      "outputs": []
    },
    {
      "cell_type": "code",
      "source": [],
      "metadata": {
        "id": "wQ_C1RhL2O23"
      },
      "execution_count": null,
      "outputs": []
    },
    {
      "cell_type": "code",
      "source": [
        "# @title Example form fields\n",
        "# @markdown Forms support many types of fields.\n",
        "\n",
        "no_type_checking = ''  # @param\n",
        "string_type = 'example'  # @param {type: \"string\"}\n",
        "slider_value = 142  # @param {type: \"slider\", min: 100, max: 200}\n",
        "number = 102  # @param {type: \"number\"}\n",
        "a = 22  # @param {type: \"number\"}\n",
        "b = 5  # @param {type: \"number\"}\n",
        "date = '2010-11-05'  # @param {type: \"date\"}\n",
        "pick_me = \"monday\"  # @param ['monday', 'tuesday', 'wednesday', 'thursday']\n",
        "select_or_input = \"apples\" # @param [\"apples\", \"bananas\", \"oranges\"] {allow-input: true}\n",
        "# @markdown ---\n"
      ],
      "metadata": {
        "id": "GbGoLmPk2VsV"
      },
      "execution_count": null,
      "outputs": []
    }
  ]
}